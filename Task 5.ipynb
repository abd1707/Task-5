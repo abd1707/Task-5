{
 "cells": [
  {
   "cell_type": "markdown",
   "id": "9482d2d0",
   "metadata": {},
   "source": [
    "## REFERRAL CODE:- SIRSS2263"
   ]
  },
  {
   "cell_type": "markdown",
   "id": "e937bcb7",
   "metadata": {},
   "source": [
    "## NAME:- ABDULLAH RAHMAN"
   ]
  },
  {
   "cell_type": "markdown",
   "id": "15956835",
   "metadata": {},
   "source": [
    "### 1). Given a list of integers, write a function to return the sum of all prime numbers in that list."
   ]
  },
  {
   "cell_type": "code",
   "execution_count": 8,
   "id": "0574c88f",
   "metadata": {},
   "outputs": [
    {
     "name": "stdout",
     "output_type": "stream",
     "text": [
      "1 7 1 9 8 3\n",
      "10\n"
     ]
    }
   ],
   "source": [
    "prime_n=input(\"\").split(' ')\n",
    "sum=0\n",
    "for n in prime_n:\n",
    "    n=int(n)\n",
    "    isPrime=True\n",
    "    if n > 1:\n",
    "       \n",
    "        for i in range(2, n):\n",
    "            if (n % i) == 0:\n",
    "                isPrime=False\n",
    "                break\n",
    "        if isPrime:\n",
    "            sum+=n\n",
    "\n",
    "\n",
    "\n",
    "print(str(sum))"
   ]
  },
  {
   "cell_type": "markdown",
   "id": "e29dd7b9",
   "metadata": {},
   "source": [
    "### 2). Given a list of integers, write a function to check whether the list is strictly increasing or not."
   ]
  },
  {
   "cell_type": "code",
   "execution_count": 9,
   "id": "c18a5c9b",
   "metadata": {},
   "outputs": [
    {
     "name": "stdout",
     "output_type": "stream",
     "text": [
      "Original list : [2, 5, 7, 9, 10, 8]\n",
      "Is the list strictly increasing ? : False\n"
     ]
    }
   ],
   "source": [
    "list = [2, 5, 7, 9, 10, 8]\n",
    "  \n",
    "\n",
    "print (\"Original list : \" + str(list))\n",
    "  \n",
    "result = all(i < j for i, j in zip(list,list[1:]))\n",
    "  \n",
    "\n",
    "print (\"Is the list strictly increasing ? : \" + str(result))"
   ]
  },
  {
   "cell_type": "markdown",
   "id": "46cc9a75",
   "metadata": {},
   "source": [
    "### 3). Write a function to check whether a given list is expanding or not (the difference between adjacent elements should keep on increasing).\n",
    "\n"
   ]
  },
  {
   "cell_type": "code",
   "execution_count": 11,
   "id": "64cff572",
   "metadata": {},
   "outputs": [],
   "source": [
    "def expand(m):\n",
    "    a = abs(m[1] - m[0])\n",
    "    b = abs(m[2] - m[1])\n",
    "    \n",
    "    if a >= b:\n",
    "        return False\n",
    "    \n",
    "    else:\n",
    "        for i in range(3,len(m)):\n",
    "            c = abs(m[i] - m[i-1])\n",
    "            if c <= b:\n",
    "                return False\n",
    "            b = c\n",
    "        else:\n",
    "            return True"
   ]
  },
  {
   "cell_type": "code",
   "execution_count": 12,
   "id": "f8ca4899",
   "metadata": {},
   "outputs": [
    {
     "data": {
      "text/plain": [
       "False"
      ]
     },
     "execution_count": 12,
     "metadata": {},
     "output_type": "execute_result"
    }
   ],
   "source": [
    "expand([3,6,9,12,8])"
   ]
  },
  {
   "cell_type": "markdown",
   "id": "44a187ae",
   "metadata": {},
   "source": [
    "### 4). Write a function to calculate all permutations of a given string. (Without using itertools)"
   ]
  },
  {
   "cell_type": "code",
   "execution_count": 14,
   "id": "7327130a",
   "metadata": {},
   "outputs": [
    {
     "name": "stdout",
     "output_type": "stream",
     "text": [
      "Enter the string : luffy\n",
      "All possible strings are : \n",
      "luffy  lufyf  luffy  lufyf  luyff  luyff  lfufy  lfuyf  lffuy  lffyu  lfyuf  lfyfu  lfufy  lfuyf  lffuy  lffyu  lfyuf  lfyfu  lyuff  lyuff  lyfuf  lyffu  lyfuf  lyffu  ulffy  ulfyf  ulffy  ulfyf  ulyff  ulyff  uflfy  uflyf  uffly  uffyl  ufylf  ufyfl  uflfy  uflyf  uffly  uffyl  ufylf  ufyfl  uylff  uylff  uyflf  uyffl  uyflf  uyffl  flufy  fluyf  flfuy  flfyu  flyuf  flyfu  fulfy  fulyf  fufly  fufyl  fuylf  fuyfl  ffluy  fflyu  ffuly  ffuyl  ffylu  ffyul  fyluf  fylfu  fyulf  fyufl  fyflu  fyful  flufy  fluyf  flfuy  flfyu  flyuf  flyfu  fulfy  fulyf  fufly  fufyl  fuylf  fuyfl  ffluy  fflyu  ffuly  ffuyl  ffylu  ffyul  fyluf  fylfu  fyulf  fyufl  fyflu  fyful  yluff  yluff  ylfuf  ylffu  ylfuf  ylffu  yulff  yulff  yuflf  yuffl  yuflf  yuffl  yfluf  yflfu  yfulf  yfufl  yfflu  yfful  yfluf  yflfu  yfulf  yfufl  yfflu  yfful  "
     ]
    }
   ],
   "source": [
    "def string(n, ans):\n",
    "    if (len(n) == 0):\n",
    "        print(ans, end = \"  \")\n",
    "        return\n",
    "     \n",
    "    for i in range(len(n)):\n",
    "        ch = n[i]\n",
    "        left = n[0:i]\n",
    "        right = n[i + 1:]\n",
    "        rest = left + right\n",
    "        string(rest, ans + ch)\n",
    " \n",
    "\n",
    "ans = \"\"\n",
    " \n",
    "n = input(\"Enter the string : \")\n",
    " \n",
    "print(\"All possible strings are : \")\n",
    "string(n, ans)"
   ]
  },
  {
   "cell_type": "code",
   "execution_count": null,
   "id": "5d498e1d",
   "metadata": {},
   "outputs": [],
   "source": []
  }
 ],
 "metadata": {
  "kernelspec": {
   "display_name": "Python 3",
   "language": "python",
   "name": "python3"
  },
  "language_info": {
   "codemirror_mode": {
    "name": "ipython",
    "version": 3
   },
   "file_extension": ".py",
   "mimetype": "text/x-python",
   "name": "python",
   "nbconvert_exporter": "python",
   "pygments_lexer": "ipython3",
   "version": "3.8.8"
  }
 },
 "nbformat": 4,
 "nbformat_minor": 5
}
